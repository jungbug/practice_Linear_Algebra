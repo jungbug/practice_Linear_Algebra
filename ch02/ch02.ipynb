{
 "cells": [
  {
   "cell_type": "code",
   "execution_count": 1,
   "metadata": {},
   "outputs": [],
   "source": [
    "import numpy as np\n",
    "\n",
    "import matplotlib.pyplot as plt\n",
    "\n",
    "import matplotlib_inline.backend_inline\n",
    "matplotlib_inline.backend_inline.set_matplotlib_formats(\"svg\")\n",
    "plt.rcParams.update({\"font.size\": 14})"
   ]
  },
  {
   "cell_type": "code",
   "execution_count": 5,
   "metadata": {},
   "outputs": [
    {
     "data": {
      "text/plain": [
       "array([[ 1, -1],\n",
       "       [ 2,  3]])"
      ]
     },
     "execution_count": 5,
     "metadata": {},
     "output_type": "execute_result"
    }
   ],
   "source": [
    "a = np.array([\n",
    "    [1,-1],\n",
    "    [2, 3]\n",
    "])\n",
    "\n",
    "a"
   ]
  },
  {
   "cell_type": "code",
   "execution_count": 7,
   "metadata": {},
   "outputs": [
    {
     "data": {
      "text/plain": [
       "array([ -7,  -4, -13])"
      ]
     },
     "execution_count": 7,
     "metadata": {},
     "output_type": "execute_result"
    }
   ],
   "source": [
    "# 벡터 하나가 생성하는 공간 => span\n",
    "\n",
    "l1 = 1\n",
    "l2 = 2\n",
    "l3 = -3\n",
    "\n",
    "v1 = np.array([4, 5, 1])\n",
    "v2 = np.array([-4, 0, -4])\n",
    "v3 = np.array([1, 3, 2])\n",
    "\n",
    "l1 * v1 + l2 * v2 + l3 * v3"
   ]
  },
  {
   "cell_type": "code",
   "execution_count": 9,
   "metadata": {},
   "outputs": [
    {
     "data": {
      "text/plain": [
       "32"
      ]
     },
     "execution_count": 9,
     "metadata": {},
     "output_type": "execute_result"
    }
   ],
   "source": [
    "def weightedSumCombination(scalars, vectors):\n",
    "    try:\n",
    "        a = 0\n",
    "        for i in range(len(scalars)):\n",
    "            a += scalars[i] * vectors[i]\n",
    "        return a\n",
    "    except:\n",
    "        return None\n",
    "    \n",
    "\n",
    "weightedSumCombination(scalars=np.array([1,2,3]), vectors=np.array([4,5,6]))"
   ]
  },
  {
   "cell_type": "code",
   "execution_count": 13,
   "metadata": {},
   "outputs": [
    {
     "data": {
      "image/svg+xml": [
       "<?xml version=\"1.0\" encoding=\"utf-8\" standalone=\"no\"?>\n",
       "<!DOCTYPE svg PUBLIC \"-//W3C//DTD SVG 1.1//EN\"\n",
       "  \"http://www.w3.org/Graphics/SVG/1.1/DTD/svg11.dtd\">\n",
       "<svg xmlns:xlink=\"http://www.w3.org/1999/xlink\" width=\"399.159063pt\" height=\"301.061375pt\" viewBox=\"0 0 399.159063 301.061375\" xmlns=\"http://www.w3.org/2000/svg\" version=\"1.1\">\n",
       " <metadata>\n",
       "  <rdf:RDF xmlns:dc=\"http://purl.org/dc/elements/1.1/\" xmlns:cc=\"http://creativecommons.org/ns#\" xmlns:rdf=\"http://www.w3.org/1999/02/22-rdf-syntax-ns#\">\n",
       "   <cc:Work>\n",
       "    <dc:type rdf:resource=\"http://purl.org/dc/dcmitype/StillImage\"/>\n",
       "    <dc:date>2024-01-04T22:40:08.556522</dc:date>\n",
       "    <dc:format>image/svg+xml</dc:format>\n",
       "    <dc:creator>\n",
       "     <cc:Agent>\n",
       "      <dc:title>Matplotlib v3.7.2, https://matplotlib.org/</dc:title>\n",
       "     </cc:Agent>\n",
       "    </dc:creator>\n",
       "   </cc:Work>\n",
       "  </rdf:RDF>\n",
       " </metadata>\n",
       " <defs>\n",
       "  <style type=\"text/css\">*{stroke-linejoin: round; stroke-linecap: butt}</style>\n",
       " </defs>\n",
       " <g id=\"figure_1\">\n",
       "  <g id=\"patch_1\">\n",
       "   <path d=\"M 0 301.061375 \n",
       "L 399.159063 301.061375 \n",
       "L 399.159063 0 \n",
       "L 0 0 \n",
       "z\n",
       "\" style=\"fill: #ffffff\"/>\n",
       "  </g>\n",
       "  <g id=\"axes_1\">\n",
       "   <g id=\"patch_2\">\n",
       "    <path d=\"M 34.839062 273.312 \n",
       "L 391.959063 273.312 \n",
       "L 391.959063 7.2 \n",
       "L 34.839062 7.2 \n",
       "z\n",
       "\" style=\"fill: #ffffff\"/>\n",
       "   </g>\n",
       "   <g id=\"matplotlib.axis_1\">\n",
       "    <g id=\"xtick_1\">\n",
       "     <g id=\"line2d_1\">\n",
       "      <defs>\n",
       "       <path id=\"m9c34200524\" d=\"M 0 0 \n",
       "L 0 3.5 \n",
       "\" style=\"stroke: #000000; stroke-width: 0.8\"/>\n",
       "      </defs>\n",
       "      <g>\n",
       "       <use xlink:href=\"#m9c34200524\" x=\"49.522088\" y=\"273.312\" style=\"stroke: #000000; stroke-width: 0.8\"/>\n",
       "      </g>\n",
       "     </g>\n",
       "     <g id=\"text_1\">\n",
       "      <!-- −4 -->\n",
       "      <g transform=\"translate(39.202557 290.949812) scale(0.14 -0.14)\">\n",
       "       <defs>\n",
       "        <path id=\"DejaVuSans-2212\" d=\"M 678 2272 \n",
       "L 4684 2272 \n",
       "L 4684 1741 \n",
       "L 678 1741 \n",
       "L 678 2272 \n",
       "z\n",
       "\" transform=\"scale(0.015625)\"/>\n",
       "        <path id=\"DejaVuSans-34\" d=\"M 2419 4116 \n",
       "L 825 1625 \n",
       "L 2419 1625 \n",
       "L 2419 4116 \n",
       "z\n",
       "M 2253 4666 \n",
       "L 3047 4666 \n",
       "L 3047 1625 \n",
       "L 3713 1625 \n",
       "L 3713 1100 \n",
       "L 3047 1100 \n",
       "L 3047 0 \n",
       "L 2419 0 \n",
       "L 2419 1100 \n",
       "L 313 1100 \n",
       "L 313 1709 \n",
       "L 2253 4666 \n",
       "z\n",
       "\" transform=\"scale(0.015625)\"/>\n",
       "       </defs>\n",
       "       <use xlink:href=\"#DejaVuSans-2212\"/>\n",
       "       <use xlink:href=\"#DejaVuSans-34\" x=\"83.789062\"/>\n",
       "      </g>\n",
       "     </g>\n",
       "    </g>\n",
       "    <g id=\"xtick_2\">\n",
       "     <g id=\"line2d_2\">\n",
       "      <g>\n",
       "       <use xlink:href=\"#m9c34200524\" x=\"132.032429\" y=\"273.312\" style=\"stroke: #000000; stroke-width: 0.8\"/>\n",
       "      </g>\n",
       "     </g>\n",
       "     <g id=\"text_2\">\n",
       "      <!-- −2 -->\n",
       "      <g transform=\"translate(121.712897 290.949812) scale(0.14 -0.14)\">\n",
       "       <defs>\n",
       "        <path id=\"DejaVuSans-32\" d=\"M 1228 531 \n",
       "L 3431 531 \n",
       "L 3431 0 \n",
       "L 469 0 \n",
       "L 469 531 \n",
       "Q 828 903 1448 1529 \n",
       "Q 2069 2156 2228 2338 \n",
       "Q 2531 2678 2651 2914 \n",
       "Q 2772 3150 2772 3378 \n",
       "Q 2772 3750 2511 3984 \n",
       "Q 2250 4219 1831 4219 \n",
       "Q 1534 4219 1204 4116 \n",
       "Q 875 4013 500 3803 \n",
       "L 500 4441 \n",
       "Q 881 4594 1212 4672 \n",
       "Q 1544 4750 1819 4750 \n",
       "Q 2544 4750 2975 4387 \n",
       "Q 3406 4025 3406 3419 \n",
       "Q 3406 3131 3298 2873 \n",
       "Q 3191 2616 2906 2266 \n",
       "Q 2828 2175 2409 1742 \n",
       "Q 1991 1309 1228 531 \n",
       "z\n",
       "\" transform=\"scale(0.015625)\"/>\n",
       "       </defs>\n",
       "       <use xlink:href=\"#DejaVuSans-2212\"/>\n",
       "       <use xlink:href=\"#DejaVuSans-32\" x=\"83.789062\"/>\n",
       "      </g>\n",
       "     </g>\n",
       "    </g>\n",
       "    <g id=\"xtick_3\">\n",
       "     <g id=\"line2d_3\">\n",
       "      <g>\n",
       "       <use xlink:href=\"#m9c34200524\" x=\"214.542769\" y=\"273.312\" style=\"stroke: #000000; stroke-width: 0.8\"/>\n",
       "      </g>\n",
       "     </g>\n",
       "     <g id=\"text_3\">\n",
       "      <!-- 0 -->\n",
       "      <g transform=\"translate(210.089019 290.949812) scale(0.14 -0.14)\">\n",
       "       <defs>\n",
       "        <path id=\"DejaVuSans-30\" d=\"M 2034 4250 \n",
       "Q 1547 4250 1301 3770 \n",
       "Q 1056 3291 1056 2328 \n",
       "Q 1056 1369 1301 889 \n",
       "Q 1547 409 2034 409 \n",
       "Q 2525 409 2770 889 \n",
       "Q 3016 1369 3016 2328 \n",
       "Q 3016 3291 2770 3770 \n",
       "Q 2525 4250 2034 4250 \n",
       "z\n",
       "M 2034 4750 \n",
       "Q 2819 4750 3233 4129 \n",
       "Q 3647 3509 3647 2328 \n",
       "Q 3647 1150 3233 529 \n",
       "Q 2819 -91 2034 -91 \n",
       "Q 1250 -91 836 529 \n",
       "Q 422 1150 422 2328 \n",
       "Q 422 3509 836 4129 \n",
       "Q 1250 4750 2034 4750 \n",
       "z\n",
       "\" transform=\"scale(0.015625)\"/>\n",
       "       </defs>\n",
       "       <use xlink:href=\"#DejaVuSans-30\"/>\n",
       "      </g>\n",
       "     </g>\n",
       "    </g>\n",
       "    <g id=\"xtick_4\">\n",
       "     <g id=\"line2d_4\">\n",
       "      <g>\n",
       "       <use xlink:href=\"#m9c34200524\" x=\"297.053109\" y=\"273.312\" style=\"stroke: #000000; stroke-width: 0.8\"/>\n",
       "      </g>\n",
       "     </g>\n",
       "     <g id=\"text_4\">\n",
       "      <!-- 2 -->\n",
       "      <g transform=\"translate(292.599359 290.949812) scale(0.14 -0.14)\">\n",
       "       <use xlink:href=\"#DejaVuSans-32\"/>\n",
       "      </g>\n",
       "     </g>\n",
       "    </g>\n",
       "    <g id=\"xtick_5\">\n",
       "     <g id=\"line2d_5\">\n",
       "      <g>\n",
       "       <use xlink:href=\"#m9c34200524\" x=\"379.56345\" y=\"273.312\" style=\"stroke: #000000; stroke-width: 0.8\"/>\n",
       "      </g>\n",
       "     </g>\n",
       "     <g id=\"text_5\">\n",
       "      <!-- 4 -->\n",
       "      <g transform=\"translate(375.1097 290.949812) scale(0.14 -0.14)\">\n",
       "       <use xlink:href=\"#DejaVuSans-34\"/>\n",
       "      </g>\n",
       "     </g>\n",
       "    </g>\n",
       "   </g>\n",
       "   <g id=\"matplotlib.axis_2\">\n",
       "    <g id=\"ytick_1\">\n",
       "     <g id=\"line2d_6\">\n",
       "      <defs>\n",
       "       <path id=\"mb18e4be1cf\" d=\"M 0 0 \n",
       "L -3.5 0 \n",
       "\" style=\"stroke: #000000; stroke-width: 0.8\"/>\n",
       "      </defs>\n",
       "      <g>\n",
       "       <use xlink:href=\"#mb18e4be1cf\" x=\"34.839062\" y=\"262.370777\" style=\"stroke: #000000; stroke-width: 0.8\"/>\n",
       "      </g>\n",
       "     </g>\n",
       "     <g id=\"text_6\">\n",
       "      <!-- −8 -->\n",
       "      <g transform=\"translate(7.2 267.689684) scale(0.14 -0.14)\">\n",
       "       <defs>\n",
       "        <path id=\"DejaVuSans-38\" d=\"M 2034 2216 \n",
       "Q 1584 2216 1326 1975 \n",
       "Q 1069 1734 1069 1313 \n",
       "Q 1069 891 1326 650 \n",
       "Q 1584 409 2034 409 \n",
       "Q 2484 409 2743 651 \n",
       "Q 3003 894 3003 1313 \n",
       "Q 3003 1734 2745 1975 \n",
       "Q 2488 2216 2034 2216 \n",
       "z\n",
       "M 1403 2484 \n",
       "Q 997 2584 770 2862 \n",
       "Q 544 3141 544 3541 \n",
       "Q 544 4100 942 4425 \n",
       "Q 1341 4750 2034 4750 \n",
       "Q 2731 4750 3128 4425 \n",
       "Q 3525 4100 3525 3541 \n",
       "Q 3525 3141 3298 2862 \n",
       "Q 3072 2584 2669 2484 \n",
       "Q 3125 2378 3379 2068 \n",
       "Q 3634 1759 3634 1313 \n",
       "Q 3634 634 3220 271 \n",
       "Q 2806 -91 2034 -91 \n",
       "Q 1263 -91 848 271 \n",
       "Q 434 634 434 1313 \n",
       "Q 434 1759 690 2068 \n",
       "Q 947 2378 1403 2484 \n",
       "z\n",
       "M 1172 3481 \n",
       "Q 1172 3119 1398 2916 \n",
       "Q 1625 2713 2034 2713 \n",
       "Q 2441 2713 2670 2916 \n",
       "Q 2900 3119 2900 3481 \n",
       "Q 2900 3844 2670 4047 \n",
       "Q 2441 4250 2034 4250 \n",
       "Q 1625 4250 1398 4047 \n",
       "Q 1172 3844 1172 3481 \n",
       "z\n",
       "\" transform=\"scale(0.015625)\"/>\n",
       "       </defs>\n",
       "       <use xlink:href=\"#DejaVuSans-2212\"/>\n",
       "       <use xlink:href=\"#DejaVuSans-38\" x=\"83.789062\"/>\n",
       "      </g>\n",
       "     </g>\n",
       "    </g>\n",
       "    <g id=\"ytick_2\">\n",
       "     <g id=\"line2d_7\">\n",
       "      <g>\n",
       "       <use xlink:href=\"#mb18e4be1cf\" x=\"34.839062\" y=\"231.629022\" style=\"stroke: #000000; stroke-width: 0.8\"/>\n",
       "      </g>\n",
       "     </g>\n",
       "     <g id=\"text_7\">\n",
       "      <!-- −6 -->\n",
       "      <g transform=\"translate(7.2 236.947928) scale(0.14 -0.14)\">\n",
       "       <defs>\n",
       "        <path id=\"DejaVuSans-36\" d=\"M 2113 2584 \n",
       "Q 1688 2584 1439 2293 \n",
       "Q 1191 2003 1191 1497 \n",
       "Q 1191 994 1439 701 \n",
       "Q 1688 409 2113 409 \n",
       "Q 2538 409 2786 701 \n",
       "Q 3034 994 3034 1497 \n",
       "Q 3034 2003 2786 2293 \n",
       "Q 2538 2584 2113 2584 \n",
       "z\n",
       "M 3366 4563 \n",
       "L 3366 3988 \n",
       "Q 3128 4100 2886 4159 \n",
       "Q 2644 4219 2406 4219 \n",
       "Q 1781 4219 1451 3797 \n",
       "Q 1122 3375 1075 2522 \n",
       "Q 1259 2794 1537 2939 \n",
       "Q 1816 3084 2150 3084 \n",
       "Q 2853 3084 3261 2657 \n",
       "Q 3669 2231 3669 1497 \n",
       "Q 3669 778 3244 343 \n",
       "Q 2819 -91 2113 -91 \n",
       "Q 1303 -91 875 529 \n",
       "Q 447 1150 447 2328 \n",
       "Q 447 3434 972 4092 \n",
       "Q 1497 4750 2381 4750 \n",
       "Q 2619 4750 2861 4703 \n",
       "Q 3103 4656 3366 4563 \n",
       "z\n",
       "\" transform=\"scale(0.015625)\"/>\n",
       "       </defs>\n",
       "       <use xlink:href=\"#DejaVuSans-2212\"/>\n",
       "       <use xlink:href=\"#DejaVuSans-36\" x=\"83.789062\"/>\n",
       "      </g>\n",
       "     </g>\n",
       "    </g>\n",
       "    <g id=\"ytick_3\">\n",
       "     <g id=\"line2d_8\">\n",
       "      <g>\n",
       "       <use xlink:href=\"#mb18e4be1cf\" x=\"34.839062\" y=\"200.887266\" style=\"stroke: #000000; stroke-width: 0.8\"/>\n",
       "      </g>\n",
       "     </g>\n",
       "     <g id=\"text_8\">\n",
       "      <!-- −4 -->\n",
       "      <g transform=\"translate(7.2 206.206172) scale(0.14 -0.14)\">\n",
       "       <use xlink:href=\"#DejaVuSans-2212\"/>\n",
       "       <use xlink:href=\"#DejaVuSans-34\" x=\"83.789062\"/>\n",
       "      </g>\n",
       "     </g>\n",
       "    </g>\n",
       "    <g id=\"ytick_4\">\n",
       "     <g id=\"line2d_9\">\n",
       "      <g>\n",
       "       <use xlink:href=\"#mb18e4be1cf\" x=\"34.839062\" y=\"170.14551\" style=\"stroke: #000000; stroke-width: 0.8\"/>\n",
       "      </g>\n",
       "     </g>\n",
       "     <g id=\"text_9\">\n",
       "      <!-- −2 -->\n",
       "      <g transform=\"translate(7.2 175.464416) scale(0.14 -0.14)\">\n",
       "       <use xlink:href=\"#DejaVuSans-2212\"/>\n",
       "       <use xlink:href=\"#DejaVuSans-32\" x=\"83.789062\"/>\n",
       "      </g>\n",
       "     </g>\n",
       "    </g>\n",
       "    <g id=\"ytick_5\">\n",
       "     <g id=\"line2d_10\">\n",
       "      <g>\n",
       "       <use xlink:href=\"#mb18e4be1cf\" x=\"34.839062\" y=\"139.403754\" style=\"stroke: #000000; stroke-width: 0.8\"/>\n",
       "      </g>\n",
       "     </g>\n",
       "     <g id=\"text_10\">\n",
       "      <!-- 0 -->\n",
       "      <g transform=\"translate(18.931562 144.72266) scale(0.14 -0.14)\">\n",
       "       <use xlink:href=\"#DejaVuSans-30\"/>\n",
       "      </g>\n",
       "     </g>\n",
       "    </g>\n",
       "    <g id=\"ytick_6\">\n",
       "     <g id=\"line2d_11\">\n",
       "      <g>\n",
       "       <use xlink:href=\"#mb18e4be1cf\" x=\"34.839062\" y=\"108.661998\" style=\"stroke: #000000; stroke-width: 0.8\"/>\n",
       "      </g>\n",
       "     </g>\n",
       "     <g id=\"text_11\">\n",
       "      <!-- 2 -->\n",
       "      <g transform=\"translate(18.931562 113.980905) scale(0.14 -0.14)\">\n",
       "       <use xlink:href=\"#DejaVuSans-32\"/>\n",
       "      </g>\n",
       "     </g>\n",
       "    </g>\n",
       "    <g id=\"ytick_7\">\n",
       "     <g id=\"line2d_12\">\n",
       "      <g>\n",
       "       <use xlink:href=\"#mb18e4be1cf\" x=\"34.839062\" y=\"77.920243\" style=\"stroke: #000000; stroke-width: 0.8\"/>\n",
       "      </g>\n",
       "     </g>\n",
       "     <g id=\"text_12\">\n",
       "      <!-- 4 -->\n",
       "      <g transform=\"translate(18.931562 83.239149) scale(0.14 -0.14)\">\n",
       "       <use xlink:href=\"#DejaVuSans-34\"/>\n",
       "      </g>\n",
       "     </g>\n",
       "    </g>\n",
       "    <g id=\"ytick_8\">\n",
       "     <g id=\"line2d_13\">\n",
       "      <g>\n",
       "       <use xlink:href=\"#mb18e4be1cf\" x=\"34.839062\" y=\"47.178487\" style=\"stroke: #000000; stroke-width: 0.8\"/>\n",
       "      </g>\n",
       "     </g>\n",
       "     <g id=\"text_13\">\n",
       "      <!-- 6 -->\n",
       "      <g transform=\"translate(18.931562 52.497393) scale(0.14 -0.14)\">\n",
       "       <use xlink:href=\"#DejaVuSans-36\"/>\n",
       "      </g>\n",
       "     </g>\n",
       "    </g>\n",
       "    <g id=\"ytick_9\">\n",
       "     <g id=\"line2d_14\">\n",
       "      <g>\n",
       "       <use xlink:href=\"#mb18e4be1cf\" x=\"34.839062\" y=\"16.436731\" style=\"stroke: #000000; stroke-width: 0.8\"/>\n",
       "      </g>\n",
       "     </g>\n",
       "     <g id=\"text_14\">\n",
       "      <!-- 8 -->\n",
       "      <g transform=\"translate(18.931562 21.755637) scale(0.14 -0.14)\">\n",
       "       <use xlink:href=\"#DejaVuSans-38\"/>\n",
       "      </g>\n",
       "     </g>\n",
       "    </g>\n",
       "   </g>\n",
       "   <g id=\"line2d_15\">\n",
       "    <defs>\n",
       "     <path id=\"mf304a5dd27\" d=\"M 0 3 \n",
       "C 0.795609 3 1.55874 2.683901 2.12132 2.12132 \n",
       "C 2.683901 1.55874 3 0.795609 3 0 \n",
       "C 3 -0.795609 2.683901 -1.55874 2.12132 -2.12132 \n",
       "C 1.55874 -2.683901 0.795609 -3 0 -3 \n",
       "C -0.795609 -3 -1.55874 -2.683901 -2.12132 -2.12132 \n",
       "C -2.683901 -1.55874 -3 -0.795609 -3 0 \n",
       "C -3 0.795609 -2.683901 1.55874 -2.12132 2.12132 \n",
       "C -1.55874 2.683901 -0.795609 3 0 3 \n",
       "z\n",
       "\" style=\"stroke: #000000\"/>\n",
       "    </defs>\n",
       "    <g clip-path=\"url(#pf78d36c718)\">\n",
       "     <use xlink:href=\"#mf304a5dd27\" x=\"230.653244\" y=\"127.398852\" style=\"stroke: #000000\"/>\n",
       "    </g>\n",
       "   </g>\n",
       "   <g id=\"line2d_16\">\n",
       "    <g clip-path=\"url(#pf78d36c718)\">\n",
       "     <use xlink:href=\"#mf304a5dd27\" x=\"285.56416\" y=\"86.481363\" style=\"stroke: #000000\"/>\n",
       "    </g>\n",
       "   </g>\n",
       "   <g id=\"line2d_17\">\n",
       "    <g clip-path=\"url(#pf78d36c718)\">\n",
       "     <use xlink:href=\"#mf304a5dd27\" x=\"248.458933\" y=\"114.130741\" style=\"stroke: #000000\"/>\n",
       "    </g>\n",
       "   </g>\n",
       "   <g id=\"line2d_18\">\n",
       "    <g clip-path=\"url(#pf78d36c718)\">\n",
       "     <use xlink:href=\"#mf304a5dd27\" x=\"229.356076\" y=\"128.365451\" style=\"stroke: #000000\"/>\n",
       "    </g>\n",
       "   </g>\n",
       "   <g id=\"line2d_19\">\n",
       "    <g clip-path=\"url(#pf78d36c718)\">\n",
       "     <use xlink:href=\"#mf304a5dd27\" x=\"189.345695\" y=\"158.179638\" style=\"stroke: #000000\"/>\n",
       "    </g>\n",
       "   </g>\n",
       "   <g id=\"line2d_20\">\n",
       "    <g clip-path=\"url(#pf78d36c718)\">\n",
       "     <use xlink:href=\"#mf304a5dd27\" x=\"262.693861\" y=\"103.523425\" style=\"stroke: #000000\"/>\n",
       "    </g>\n",
       "   </g>\n",
       "   <g id=\"line2d_21\">\n",
       "    <g clip-path=\"url(#pf78d36c718)\">\n",
       "     <use xlink:href=\"#mf304a5dd27\" x=\"193.943967\" y=\"154.753184\" style=\"stroke: #000000\"/>\n",
       "    </g>\n",
       "   </g>\n",
       "   <g id=\"line2d_22\">\n",
       "    <g clip-path=\"url(#pf78d36c718)\">\n",
       "     <use xlink:href=\"#mf304a5dd27\" x=\"343.844063\" y=\"43.053435\" style=\"stroke: #000000\"/>\n",
       "    </g>\n",
       "   </g>\n",
       "   <g id=\"line2d_23\">\n",
       "    <g clip-path=\"url(#pf78d36c718)\">\n",
       "     <use xlink:href=\"#mf304a5dd27\" x=\"367.570658\" y=\"25.373295\" style=\"stroke: #000000\"/>\n",
       "    </g>\n",
       "   </g>\n",
       "   <g id=\"line2d_24\">\n",
       "    <g clip-path=\"url(#pf78d36c718)\">\n",
       "     <use xlink:href=\"#mf304a5dd27\" x=\"176.073649\" y=\"168.069453\" style=\"stroke: #000000\"/>\n",
       "    </g>\n",
       "   </g>\n",
       "   <g id=\"line2d_25\">\n",
       "    <g clip-path=\"url(#pf78d36c718)\">\n",
       "     <use xlink:href=\"#mf304a5dd27\" x=\"310.824098\" y=\"67.658635\" style=\"stroke: #000000\"/>\n",
       "    </g>\n",
       "   </g>\n",
       "   <g id=\"line2d_26\">\n",
       "    <g clip-path=\"url(#pf78d36c718)\">\n",
       "     <use xlink:href=\"#mf304a5dd27\" x=\"224.079288\" y=\"132.29751\" style=\"stroke: #000000\"/>\n",
       "    </g>\n",
       "   </g>\n",
       "   <g id=\"line2d_27\">\n",
       "    <g clip-path=\"url(#pf78d36c718)\">\n",
       "     <use xlink:href=\"#mf304a5dd27\" x=\"237.000289\" y=\"122.66928\" style=\"stroke: #000000\"/>\n",
       "    </g>\n",
       "   </g>\n",
       "   <g id=\"line2d_28\">\n",
       "    <g clip-path=\"url(#pf78d36c718)\">\n",
       "     <use xlink:href=\"#mf304a5dd27\" x=\"355.007263\" y=\"34.735051\" style=\"stroke: #000000\"/>\n",
       "    </g>\n",
       "   </g>\n",
       "   <g id=\"line2d_29\">\n",
       "    <g clip-path=\"url(#pf78d36c718)\">\n",
       "     <use xlink:href=\"#mf304a5dd27\" x=\"72.966926\" y=\"244.900592\" style=\"stroke: #000000\"/>\n",
       "    </g>\n",
       "   </g>\n",
       "   <g id=\"line2d_30\">\n",
       "    <g clip-path=\"url(#pf78d36c718)\">\n",
       "     <use xlink:href=\"#mf304a5dd27\" x=\"78.278361\" y=\"240.942716\" style=\"stroke: #000000\"/>\n",
       "    </g>\n",
       "   </g>\n",
       "   <g id=\"line2d_31\">\n",
       "    <g clip-path=\"url(#pf78d36c718)\">\n",
       "     <use xlink:href=\"#mf304a5dd27\" x=\"56.194996\" y=\"257.398385\" style=\"stroke: #000000\"/>\n",
       "    </g>\n",
       "   </g>\n",
       "   <g id=\"line2d_32\">\n",
       "    <g clip-path=\"url(#pf78d36c718)\">\n",
       "     <use xlink:href=\"#mf304a5dd27\" x=\"324.321076\" y=\"57.60121\" style=\"stroke: #000000\"/>\n",
       "    </g>\n",
       "   </g>\n",
       "   <g id=\"line2d_33\">\n",
       "    <g clip-path=\"url(#pf78d36c718)\">\n",
       "     <use xlink:href=\"#mf304a5dd27\" x=\"306.346002\" y=\"70.995539\" style=\"stroke: #000000\"/>\n",
       "    </g>\n",
       "   </g>\n",
       "   <g id=\"line2d_34\">\n",
       "    <g clip-path=\"url(#pf78d36c718)\">\n",
       "     <use xlink:href=\"#mf304a5dd27\" x=\"336.662082\" y=\"48.405169\" style=\"stroke: #000000\"/>\n",
       "    </g>\n",
       "   </g>\n",
       "   <g id=\"line2d_35\">\n",
       "    <g clip-path=\"url(#pf78d36c718)\">\n",
       "     <use xlink:href=\"#mf304a5dd27\" x=\"372.506618\" y=\"21.695209\" style=\"stroke: #000000\"/>\n",
       "    </g>\n",
       "   </g>\n",
       "   <g id=\"line2d_36\">\n",
       "    <g clip-path=\"url(#pf78d36c718)\">\n",
       "     <use xlink:href=\"#mf304a5dd27\" x=\"313.277469\" y=\"65.830478\" style=\"stroke: #000000\"/>\n",
       "    </g>\n",
       "   </g>\n",
       "   <g id=\"line2d_37\">\n",
       "    <g clip-path=\"url(#pf78d36c718)\">\n",
       "     <use xlink:href=\"#mf304a5dd27\" x=\"201.829365\" y=\"148.877291\" style=\"stroke: #000000\"/>\n",
       "    </g>\n",
       "   </g>\n",
       "   <g id=\"line2d_38\">\n",
       "    <g clip-path=\"url(#pf78d36c718)\">\n",
       "     <use xlink:href=\"#mf304a5dd27\" x=\"307.129\" y=\"70.412079\" style=\"stroke: #000000\"/>\n",
       "    </g>\n",
       "   </g>\n",
       "   <g id=\"line2d_39\">\n",
       "    <g clip-path=\"url(#pf78d36c718)\">\n",
       "     <use xlink:href=\"#mf304a5dd27\" x=\"88.557541\" y=\"233.283069\" style=\"stroke: #000000\"/>\n",
       "    </g>\n",
       "   </g>\n",
       "   <g id=\"line2d_40\">\n",
       "    <g clip-path=\"url(#pf78d36c718)\">\n",
       "     <use xlink:href=\"#mf304a5dd27\" x=\"260.722493\" y=\"104.992411\" style=\"stroke: #000000\"/>\n",
       "    </g>\n",
       "   </g>\n",
       "   <g id=\"line2d_41\">\n",
       "    <g clip-path=\"url(#pf78d36c718)\">\n",
       "     <use xlink:href=\"#mf304a5dd27\" x=\"96.834603\" y=\"227.115323\" style=\"stroke: #000000\"/>\n",
       "    </g>\n",
       "   </g>\n",
       "   <g id=\"line2d_42\">\n",
       "    <g clip-path=\"url(#pf78d36c718)\">\n",
       "     <use xlink:href=\"#mf304a5dd27\" x=\"361.301904\" y=\"30.044528\" style=\"stroke: #000000\"/>\n",
       "    </g>\n",
       "   </g>\n",
       "   <g id=\"line2d_43\">\n",
       "    <g clip-path=\"url(#pf78d36c718)\">\n",
       "     <use xlink:href=\"#mf304a5dd27\" x=\"221.753619\" y=\"134.030508\" style=\"stroke: #000000\"/>\n",
       "    </g>\n",
       "   </g>\n",
       "   <g id=\"line2d_44\">\n",
       "    <g clip-path=\"url(#pf78d36c718)\">\n",
       "     <use xlink:href=\"#mf304a5dd27\" x=\"186.377679\" y=\"160.391289\" style=\"stroke: #000000\"/>\n",
       "    </g>\n",
       "   </g>\n",
       "   <g id=\"line2d_45\">\n",
       "    <g clip-path=\"url(#pf78d36c718)\">\n",
       "     <use xlink:href=\"#mf304a5dd27\" x=\"136.836383\" y=\"197.307545\" style=\"stroke: #000000\"/>\n",
       "    </g>\n",
       "   </g>\n",
       "   <g id=\"line2d_46\">\n",
       "    <g clip-path=\"url(#pf78d36c718)\">\n",
       "     <use xlink:href=\"#mf304a5dd27\" x=\"305.051229\" y=\"71.960353\" style=\"stroke: #000000\"/>\n",
       "    </g>\n",
       "   </g>\n",
       "   <g id=\"line2d_47\">\n",
       "    <g clip-path=\"url(#pf78d36c718)\">\n",
       "     <use xlink:href=\"#mf304a5dd27\" x=\"200.070565\" y=\"150.18788\" style=\"stroke: #000000\"/>\n",
       "    </g>\n",
       "   </g>\n",
       "   <g id=\"line2d_48\">\n",
       "    <g clip-path=\"url(#pf78d36c718)\">\n",
       "     <use xlink:href=\"#mf304a5dd27\" x=\"237.128803\" y=\"122.573516\" style=\"stroke: #000000\"/>\n",
       "    </g>\n",
       "   </g>\n",
       "   <g id=\"line2d_49\">\n",
       "    <g clip-path=\"url(#pf78d36c718)\">\n",
       "     <use xlink:href=\"#mf304a5dd27\" x=\"55.7235\" y=\"257.749726\" style=\"stroke: #000000\"/>\n",
       "    </g>\n",
       "   </g>\n",
       "   <g id=\"line2d_50\">\n",
       "    <g clip-path=\"url(#pf78d36c718)\">\n",
       "     <use xlink:href=\"#mf304a5dd27\" x=\"253.367349\" y=\"110.47318\" style=\"stroke: #000000\"/>\n",
       "    </g>\n",
       "   </g>\n",
       "   <g id=\"line2d_51\">\n",
       "    <g clip-path=\"url(#pf78d36c718)\">\n",
       "     <use xlink:href=\"#mf304a5dd27\" x=\"251.538994\" y=\"111.8356\" style=\"stroke: #000000\"/>\n",
       "    </g>\n",
       "   </g>\n",
       "   <g id=\"line2d_52\">\n",
       "    <g clip-path=\"url(#pf78d36c718)\">\n",
       "     <use xlink:href=\"#mf304a5dd27\" x=\"253.135824\" y=\"110.645703\" style=\"stroke: #000000\"/>\n",
       "    </g>\n",
       "   </g>\n",
       "   <g id=\"line2d_53\">\n",
       "    <g clip-path=\"url(#pf78d36c718)\">\n",
       "     <use xlink:href=\"#mf304a5dd27\" x=\"360.997989\" y=\"30.270994\" style=\"stroke: #000000\"/>\n",
       "    </g>\n",
       "   </g>\n",
       "   <g id=\"line2d_54\">\n",
       "    <g clip-path=\"url(#pf78d36c718)\">\n",
       "     <use xlink:href=\"#mf304a5dd27\" x=\"274.550988\" y=\"94.687952\" style=\"stroke: #000000\"/>\n",
       "    </g>\n",
       "   </g>\n",
       "   <g id=\"line2d_55\">\n",
       "    <g clip-path=\"url(#pf78d36c718)\">\n",
       "     <use xlink:href=\"#mf304a5dd27\" x=\"168.174565\" y=\"173.955545\" style=\"stroke: #000000\"/>\n",
       "    </g>\n",
       "   </g>\n",
       "   <g id=\"line2d_56\">\n",
       "    <g clip-path=\"url(#pf78d36c718)\">\n",
       "     <use xlink:href=\"#mf304a5dd27\" x=\"193.760709\" y=\"154.889741\" style=\"stroke: #000000\"/>\n",
       "    </g>\n",
       "   </g>\n",
       "   <g id=\"line2d_57\">\n",
       "    <g clip-path=\"url(#pf78d36c718)\">\n",
       "     <use xlink:href=\"#mf304a5dd27\" x=\"279.769238\" y=\"90.799514\" style=\"stroke: #000000\"/>\n",
       "    </g>\n",
       "   </g>\n",
       "   <g id=\"line2d_58\">\n",
       "    <g clip-path=\"url(#pf78d36c718)\">\n",
       "     <use xlink:href=\"#mf304a5dd27\" x=\"69.398985\" y=\"247.559284\" style=\"stroke: #000000\"/>\n",
       "    </g>\n",
       "   </g>\n",
       "   <g id=\"line2d_59\">\n",
       "    <g clip-path=\"url(#pf78d36c718)\">\n",
       "     <use xlink:href=\"#mf304a5dd27\" x=\"269.582683\" y=\"98.390141\" style=\"stroke: #000000\"/>\n",
       "    </g>\n",
       "   </g>\n",
       "   <g id=\"line2d_60\">\n",
       "    <g clip-path=\"url(#pf78d36c718)\">\n",
       "     <use xlink:href=\"#mf304a5dd27\" x=\"270.860324\" y=\"97.438092\" style=\"stroke: #000000\"/>\n",
       "    </g>\n",
       "   </g>\n",
       "   <g id=\"line2d_61\">\n",
       "    <g clip-path=\"url(#pf78d36c718)\">\n",
       "     <use xlink:href=\"#mf304a5dd27\" x=\"118.957035\" y=\"210.630543\" style=\"stroke: #000000\"/>\n",
       "    </g>\n",
       "   </g>\n",
       "   <g id=\"line2d_62\">\n",
       "    <g clip-path=\"url(#pf78d36c718)\">\n",
       "     <use xlink:href=\"#mf304a5dd27\" x=\"92.073099\" y=\"230.663411\" style=\"stroke: #000000\"/>\n",
       "    </g>\n",
       "   </g>\n",
       "   <g id=\"line2d_63\">\n",
       "    <g clip-path=\"url(#pf78d36c718)\">\n",
       "     <use xlink:href=\"#mf304a5dd27\" x=\"153.626491\" y=\"184.796207\" style=\"stroke: #000000\"/>\n",
       "    </g>\n",
       "   </g>\n",
       "   <g id=\"line2d_64\">\n",
       "    <g clip-path=\"url(#pf78d36c718)\">\n",
       "     <use xlink:href=\"#mf304a5dd27\" x=\"169.561686\" y=\"172.921916\" style=\"stroke: #000000\"/>\n",
       "    </g>\n",
       "   </g>\n",
       "   <g id=\"line2d_65\">\n",
       "    <g clip-path=\"url(#pf78d36c718)\">\n",
       "     <use xlink:href=\"#mf304a5dd27\" x=\"237.710607\" y=\"122.139978\" style=\"stroke: #000000\"/>\n",
       "    </g>\n",
       "   </g>\n",
       "   <g id=\"line2d_66\">\n",
       "    <g clip-path=\"url(#pf78d36c718)\">\n",
       "     <use xlink:href=\"#mf304a5dd27\" x=\"194.278729\" y=\"154.503732\" style=\"stroke: #000000\"/>\n",
       "    </g>\n",
       "   </g>\n",
       "   <g id=\"line2d_67\">\n",
       "    <g clip-path=\"url(#pf78d36c718)\">\n",
       "     <use xlink:href=\"#mf304a5dd27\" x=\"375.726335\" y=\"19.296\" style=\"stroke: #000000\"/>\n",
       "    </g>\n",
       "   </g>\n",
       "   <g id=\"line2d_68\">\n",
       "    <g clip-path=\"url(#pf78d36c718)\">\n",
       "     <use xlink:href=\"#mf304a5dd27\" x=\"83.201097\" y=\"237.274484\" style=\"stroke: #000000\"/>\n",
       "    </g>\n",
       "   </g>\n",
       "   <g id=\"line2d_69\">\n",
       "    <g clip-path=\"url(#pf78d36c718)\">\n",
       "     <use xlink:href=\"#mf304a5dd27\" x=\"118.460057\" y=\"211.000872\" style=\"stroke: #000000\"/>\n",
       "    </g>\n",
       "   </g>\n",
       "   <g id=\"line2d_70\">\n",
       "    <g clip-path=\"url(#pf78d36c718)\">\n",
       "     <use xlink:href=\"#mf304a5dd27\" x=\"102.760901\" y=\"222.699275\" style=\"stroke: #000000\"/>\n",
       "    </g>\n",
       "   </g>\n",
       "   <g id=\"line2d_71\">\n",
       "    <g clip-path=\"url(#pf78d36c718)\">\n",
       "     <use xlink:href=\"#mf304a5dd27\" x=\"265.074849\" y=\"101.749204\" style=\"stroke: #000000\"/>\n",
       "    </g>\n",
       "   </g>\n",
       "   <g id=\"line2d_72\">\n",
       "    <g clip-path=\"url(#pf78d36c718)\">\n",
       "     <use xlink:href=\"#mf304a5dd27\" x=\"133.118794\" y=\"200.077749\" style=\"stroke: #000000\"/>\n",
       "    </g>\n",
       "   </g>\n",
       "   <g id=\"line2d_73\">\n",
       "    <g clip-path=\"url(#pf78d36c718)\">\n",
       "     <use xlink:href=\"#mf304a5dd27\" x=\"203.423931\" y=\"147.689082\" style=\"stroke: #000000\"/>\n",
       "    </g>\n",
       "   </g>\n",
       "   <g id=\"line2d_74\">\n",
       "    <g clip-path=\"url(#pf78d36c718)\">\n",
       "     <use xlink:href=\"#mf304a5dd27\" x=\"130.192643\" y=\"202.258203\" style=\"stroke: #000000\"/>\n",
       "    </g>\n",
       "   </g>\n",
       "   <g id=\"line2d_75\">\n",
       "    <g clip-path=\"url(#pf78d36c718)\">\n",
       "     <use xlink:href=\"#mf304a5dd27\" x=\"101.988626\" y=\"223.274744\" style=\"stroke: #000000\"/>\n",
       "    </g>\n",
       "   </g>\n",
       "   <g id=\"line2d_76\">\n",
       "    <g clip-path=\"url(#pf78d36c718)\">\n",
       "     <use xlink:href=\"#mf304a5dd27\" x=\"85.95045\" y=\"235.225772\" style=\"stroke: #000000\"/>\n",
       "    </g>\n",
       "   </g>\n",
       "   <g id=\"line2d_77\">\n",
       "    <g clip-path=\"url(#pf78d36c718)\">\n",
       "     <use xlink:href=\"#mf304a5dd27\" x=\"266.137999\" y=\"100.956986\" style=\"stroke: #000000\"/>\n",
       "    </g>\n",
       "   </g>\n",
       "   <g id=\"line2d_78\">\n",
       "    <g clip-path=\"url(#pf78d36c718)\">\n",
       "     <use xlink:href=\"#mf304a5dd27\" x=\"95.128178\" y=\"228.386885\" style=\"stroke: #000000\"/>\n",
       "    </g>\n",
       "   </g>\n",
       "   <g id=\"line2d_79\">\n",
       "    <g clip-path=\"url(#pf78d36c718)\">\n",
       "     <use xlink:href=\"#mf304a5dd27\" x=\"114.402399\" y=\"214.024482\" style=\"stroke: #000000\"/>\n",
       "    </g>\n",
       "   </g>\n",
       "   <g id=\"line2d_80\">\n",
       "    <g clip-path=\"url(#pf78d36c718)\">\n",
       "     <use xlink:href=\"#mf304a5dd27\" x=\"171.216646\" y=\"171.688704\" style=\"stroke: #000000\"/>\n",
       "    </g>\n",
       "   </g>\n",
       "   <g id=\"line2d_81\">\n",
       "    <g clip-path=\"url(#pf78d36c718)\">\n",
       "     <use xlink:href=\"#mf304a5dd27\" x=\"320.483811\" y=\"60.46059\" style=\"stroke: #000000\"/>\n",
       "    </g>\n",
       "   </g>\n",
       "   <g id=\"line2d_82\">\n",
       "    <g clip-path=\"url(#pf78d36c718)\">\n",
       "     <use xlink:href=\"#mf304a5dd27\" x=\"81.569526\" y=\"238.490268\" style=\"stroke: #000000\"/>\n",
       "    </g>\n",
       "   </g>\n",
       "   <g id=\"line2d_83\">\n",
       "    <g clip-path=\"url(#pf78d36c718)\">\n",
       "     <use xlink:href=\"#mf304a5dd27\" x=\"326.078566\" y=\"56.291596\" style=\"stroke: #000000\"/>\n",
       "    </g>\n",
       "   </g>\n",
       "   <g id=\"line2d_84\">\n",
       "    <g clip-path=\"url(#pf78d36c718)\">\n",
       "     <use xlink:href=\"#mf304a5dd27\" x=\"81.238538\" y=\"238.736907\" style=\"stroke: #000000\"/>\n",
       "    </g>\n",
       "   </g>\n",
       "   <g id=\"line2d_85\">\n",
       "    <g clip-path=\"url(#pf78d36c718)\">\n",
       "     <use xlink:href=\"#mf304a5dd27\" x=\"371.794099\" y=\"22.22615\" style=\"stroke: #000000\"/>\n",
       "    </g>\n",
       "   </g>\n",
       "   <g id=\"line2d_86\">\n",
       "    <g clip-path=\"url(#pf78d36c718)\">\n",
       "     <use xlink:href=\"#mf304a5dd27\" x=\"204.196369\" y=\"147.113491\" style=\"stroke: #000000\"/>\n",
       "    </g>\n",
       "   </g>\n",
       "   <g id=\"line2d_87\">\n",
       "    <g clip-path=\"url(#pf78d36c718)\">\n",
       "     <use xlink:href=\"#mf304a5dd27\" x=\"371.893647\" y=\"22.151971\" style=\"stroke: #000000\"/>\n",
       "    </g>\n",
       "   </g>\n",
       "   <g id=\"line2d_88\">\n",
       "    <g clip-path=\"url(#pf78d36c718)\">\n",
       "     <use xlink:href=\"#mf304a5dd27\" x=\"249.146127\" y=\"113.618671\" style=\"stroke: #000000\"/>\n",
       "    </g>\n",
       "   </g>\n",
       "   <g id=\"line2d_89\">\n",
       "    <g clip-path=\"url(#pf78d36c718)\">\n",
       "     <use xlink:href=\"#mf304a5dd27\" x=\"293.509646\" y=\"80.560694\" style=\"stroke: #000000\"/>\n",
       "    </g>\n",
       "   </g>\n",
       "   <g id=\"line2d_90\">\n",
       "    <g clip-path=\"url(#pf78d36c718)\">\n",
       "     <use xlink:href=\"#mf304a5dd27\" x=\"62.455681\" y=\"252.733165\" style=\"stroke: #000000\"/>\n",
       "    </g>\n",
       "   </g>\n",
       "   <g id=\"line2d_91\">\n",
       "    <g clip-path=\"url(#pf78d36c718)\">\n",
       "     <use xlink:href=\"#mf304a5dd27\" x=\"142.860083\" y=\"192.818917\" style=\"stroke: #000000\"/>\n",
       "    </g>\n",
       "   </g>\n",
       "   <g id=\"line2d_92\">\n",
       "    <g clip-path=\"url(#pf78d36c718)\">\n",
       "     <use xlink:href=\"#mf304a5dd27\" x=\"89.191925\" y=\"232.810351\" style=\"stroke: #000000\"/>\n",
       "    </g>\n",
       "   </g>\n",
       "   <g id=\"line2d_93\">\n",
       "    <g clip-path=\"url(#pf78d36c718)\">\n",
       "     <use xlink:href=\"#mf304a5dd27\" x=\"147.260602\" y=\"189.53982\" style=\"stroke: #000000\"/>\n",
       "    </g>\n",
       "   </g>\n",
       "   <g id=\"line2d_94\">\n",
       "    <g clip-path=\"url(#pf78d36c718)\">\n",
       "     <use xlink:href=\"#mf304a5dd27\" x=\"88.707146\" y=\"233.171589\" style=\"stroke: #000000\"/>\n",
       "    </g>\n",
       "   </g>\n",
       "   <g id=\"line2d_95\">\n",
       "    <g clip-path=\"url(#pf78d36c718)\">\n",
       "     <use xlink:href=\"#mf304a5dd27\" x=\"154.46969\" y=\"184.167887\" style=\"stroke: #000000\"/>\n",
       "    </g>\n",
       "   </g>\n",
       "   <g id=\"line2d_96\">\n",
       "    <g clip-path=\"url(#pf78d36c718)\">\n",
       "     <use xlink:href=\"#mf304a5dd27\" x=\"186.246011\" y=\"160.489403\" style=\"stroke: #000000\"/>\n",
       "    </g>\n",
       "   </g>\n",
       "   <g id=\"line2d_97\">\n",
       "    <g clip-path=\"url(#pf78d36c718)\">\n",
       "     <use xlink:href=\"#mf304a5dd27\" x=\"70.693415\" y=\"246.594724\" style=\"stroke: #000000\"/>\n",
       "    </g>\n",
       "   </g>\n",
       "   <g id=\"line2d_98\">\n",
       "    <g clip-path=\"url(#pf78d36c718)\">\n",
       "     <use xlink:href=\"#mf304a5dd27\" x=\"278.066529\" y=\"92.068307\" style=\"stroke: #000000\"/>\n",
       "    </g>\n",
       "   </g>\n",
       "   <g id=\"line2d_99\">\n",
       "    <g clip-path=\"url(#pf78d36c718)\">\n",
       "     <use xlink:href=\"#mf304a5dd27\" x=\"236.524004\" y=\"123.024189\" style=\"stroke: #000000\"/>\n",
       "    </g>\n",
       "   </g>\n",
       "   <g id=\"line2d_100\">\n",
       "    <g clip-path=\"url(#pf78d36c718)\">\n",
       "     <use xlink:href=\"#mf304a5dd27\" x=\"137.111597\" y=\"197.102466\" style=\"stroke: #000000\"/>\n",
       "    </g>\n",
       "   </g>\n",
       "   <g id=\"line2d_101\">\n",
       "    <g clip-path=\"url(#pf78d36c718)\">\n",
       "     <use xlink:href=\"#mf304a5dd27\" x=\"222.215588\" y=\"133.686266\" style=\"stroke: #000000\"/>\n",
       "    </g>\n",
       "   </g>\n",
       "   <g id=\"line2d_102\">\n",
       "    <g clip-path=\"url(#pf78d36c718)\">\n",
       "     <use xlink:href=\"#mf304a5dd27\" x=\"80.526342\" y=\"239.267608\" style=\"stroke: #000000\"/>\n",
       "    </g>\n",
       "   </g>\n",
       "   <g id=\"line2d_103\">\n",
       "    <g clip-path=\"url(#pf78d36c718)\">\n",
       "     <use xlink:href=\"#mf304a5dd27\" x=\"239.608254\" y=\"120.725925\" style=\"stroke: #000000\"/>\n",
       "    </g>\n",
       "   </g>\n",
       "   <g id=\"line2d_104\">\n",
       "    <g clip-path=\"url(#pf78d36c718)\">\n",
       "     <use xlink:href=\"#mf304a5dd27\" x=\"356.22827\" y=\"33.825203\" style=\"stroke: #000000\"/>\n",
       "    </g>\n",
       "   </g>\n",
       "   <g id=\"line2d_105\">\n",
       "    <g clip-path=\"url(#pf78d36c718)\">\n",
       "     <use xlink:href=\"#mf304a5dd27\" x=\"154.663019\" y=\"184.023826\" style=\"stroke: #000000\"/>\n",
       "    </g>\n",
       "   </g>\n",
       "   <g id=\"line2d_106\">\n",
       "    <g clip-path=\"url(#pf78d36c718)\">\n",
       "     <use xlink:href=\"#mf304a5dd27\" x=\"269.795119\" y=\"98.231842\" style=\"stroke: #000000\"/>\n",
       "    </g>\n",
       "   </g>\n",
       "   <g id=\"line2d_107\">\n",
       "    <g clip-path=\"url(#pf78d36c718)\">\n",
       "     <use xlink:href=\"#mf304a5dd27\" x=\"93.020834\" y=\"229.957196\" style=\"stroke: #000000\"/>\n",
       "    </g>\n",
       "   </g>\n",
       "   <g id=\"line2d_108\">\n",
       "    <g clip-path=\"url(#pf78d36c718)\">\n",
       "     <use xlink:href=\"#mf304a5dd27\" x=\"285.939694\" y=\"86.20153\" style=\"stroke: #000000\"/>\n",
       "    </g>\n",
       "   </g>\n",
       "   <g id=\"line2d_109\">\n",
       "    <g clip-path=\"url(#pf78d36c718)\">\n",
       "     <use xlink:href=\"#mf304a5dd27\" x=\"145.038069\" y=\"191.195966\" style=\"stroke: #000000\"/>\n",
       "    </g>\n",
       "   </g>\n",
       "   <g id=\"line2d_110\">\n",
       "    <g clip-path=\"url(#pf78d36c718)\">\n",
       "     <use xlink:href=\"#mf304a5dd27\" x=\"109.982815\" y=\"217.317785\" style=\"stroke: #000000\"/>\n",
       "    </g>\n",
       "   </g>\n",
       "   <g id=\"line2d_111\">\n",
       "    <g clip-path=\"url(#pf78d36c718)\">\n",
       "     <use xlink:href=\"#mf304a5dd27\" x=\"243.095616\" y=\"118.127278\" style=\"stroke: #000000\"/>\n",
       "    </g>\n",
       "   </g>\n",
       "   <g id=\"line2d_112\">\n",
       "    <g clip-path=\"url(#pf78d36c718)\">\n",
       "     <use xlink:href=\"#mf304a5dd27\" x=\"56.15841\" y=\"257.425647\" style=\"stroke: #000000\"/>\n",
       "    </g>\n",
       "   </g>\n",
       "   <g id=\"line2d_113\">\n",
       "    <g clip-path=\"url(#pf78d36c718)\">\n",
       "     <use xlink:href=\"#mf304a5dd27\" x=\"323.106584\" y=\"58.506202\" style=\"stroke: #000000\"/>\n",
       "    </g>\n",
       "   </g>\n",
       "   <g id=\"line2d_114\">\n",
       "    <g clip-path=\"url(#pf78d36c718)\">\n",
       "     <use xlink:href=\"#mf304a5dd27\" x=\"51.07179\" y=\"261.216\" style=\"stroke: #000000\"/>\n",
       "    </g>\n",
       "   </g>\n",
       "   <g id=\"patch_3\">\n",
       "    <path d=\"M 34.839062 273.312 \n",
       "L 34.839062 7.2 \n",
       "\" style=\"fill: none; stroke: #000000; stroke-width: 0.8; stroke-linejoin: miter; stroke-linecap: square\"/>\n",
       "   </g>\n",
       "   <g id=\"patch_4\">\n",
       "    <path d=\"M 391.959063 273.312 \n",
       "L 391.959063 7.2 \n",
       "\" style=\"fill: none; stroke: #000000; stroke-width: 0.8; stroke-linejoin: miter; stroke-linecap: square\"/>\n",
       "   </g>\n",
       "   <g id=\"patch_5\">\n",
       "    <path d=\"M 34.839062 273.312 \n",
       "L 391.959062 273.312 \n",
       "\" style=\"fill: none; stroke: #000000; stroke-width: 0.8; stroke-linejoin: miter; stroke-linecap: square\"/>\n",
       "   </g>\n",
       "   <g id=\"patch_6\">\n",
       "    <path d=\"M 34.839062 7.2 \n",
       "L 391.959062 7.2 \n",
       "\" style=\"fill: none; stroke: #000000; stroke-width: 0.8; stroke-linejoin: miter; stroke-linecap: square\"/>\n",
       "   </g>\n",
       "  </g>\n",
       " </g>\n",
       " <defs>\n",
       "  <clipPath id=\"pf78d36c718\">\n",
       "   <rect x=\"34.839062\" y=\"7.2\" width=\"357.12\" height=\"266.112\"/>\n",
       "  </clipPath>\n",
       " </defs>\n",
       "</svg>\n"
      ],
      "text/plain": [
       "<Figure size 640x480 with 1 Axes>"
      ]
     },
     "metadata": {},
     "output_type": "display_data"
    }
   ],
   "source": [
    "A = np.array([1,2])\n",
    "np.random.seed(0)\n",
    "scalars = np.random.uniform(low=-4, high=4, size=100)\n",
    "\n",
    "for s in scalars:\n",
    "    p = A * s\n",
    "    plt.plot(p[0], p[1], \"ko\")\n"
   ]
  },
  {
   "cell_type": "code",
   "execution_count": 39,
   "metadata": {},
   "outputs": [
    {
     "data": {
      "application/vnd.plotly.v1+json": {
       "config": {
        "plotlyServerURL": "https://plot.ly"
       },
       "data": [
        {
         "marker": {
          "color": "black",
          "size": 6
         },
         "mode": "markers",
         "type": "scatter3d",
         "x": [
          -4.595328970694388,
          9.318360973057045,
          3.671994262685833,
          1.1723824175833135,
          -9.633351150652535,
          -11.011685008125081,
          7.381531299836964,
          3.051857075084598,
          -7.924331923878848,
          6.558219025608556,
          11.591979237996778,
          11.824007843142393,
          10.518147287135093,
          -1.0029057657933116,
          -7.113097630146433,
          -7.540398042576103,
          -9.202593301689635,
          -11.888283915907596,
          3.940730521947577,
          -9.940929587523957,
          -5.325203693643319,
          11.162279357231267,
          7.331098497719918,
          1.662886079623065,
          11.322313826734826,
          6.909978022893029,
          -2.504791976982572,
          2.359583264752491,
          -1.9790591760754417,
          4.649928557741131,
          -5.7749427806035145,
          -0.9629950225314978,
          10.921120344150792,
          8.678183134213526,
          9.304820057455675,
          -1.6800772687028855,
          6.483074980597972,
          6.868523987161458,
          7.045616833160446,
          7.219166377623143,
          -0.6401711892205633,
          -11.48739160947964,
          -4.987743235979472,
          -8.64610130724108,
          -10.774726447393833,
          -4.312169123740041,
          8.283698087897289,
          -11.405542607058031,
          3.852868251468964,
          11.905710504244492,
          8.81074899824791,
          -1.5515168081962312,
          4.2602005438562465,
          2.9073678110491974,
          9.224648717806808,
          5.084890821439728,
          -2.490654128118144,
          7.7256938017888555,
          9.193862335659247,
          6.593942740619966,
          2.754477267463172,
          -11.6579636363929,
          7.763321257620891,
          11.059500691744269,
          -10.930293336296062,
          -4.678879239291322,
          11.578677192017036,
          3.980913559436157,
          6.4366719471067135,
          -6.299444688327607,
          -5.806578899078226,
          4.876536384375943,
          4.658097001991518,
          -7.945773219250425,
          -2.0692747234016142,
          -4.898592566955034,
          -3.458660288619165,
          1.8621621610403691,
          -10.122093607428749,
          6.398185214547799,
          4.991576511628479,
          -5.108334890728095,
          1.0404633676024693,
          10.964893658535512,
          7.038760146169157,
          1.925708900723043,
          10.656779194274385,
          -8.462397539682705,
          -9.98900753015797,
          -6.723341360601433,
          4.84417159066599,
          8.959666269645687,
          0.05743905377042591,
          3.493063069907854,
          -9.573420226476209,
          -7.964589167452313,
          -4.367312856950725,
          11.177622671526736,
          2.819934424014863,
          9.294795629644463
         ],
         "y": [
          -0.5839261135352141,
          21.295572475256456,
          3.6286170729927436,
          6.997571347434152,
          -11.238387167002681,
          -13.290071847445441,
          5.118669107655032,
          5.1256776474806856,
          -18.8331568702934,
          12.013449024070432,
          27.035929833274807,
          13.604528032422907,
          13.443359222887496,
          2.446995283492095,
          -10.794177028041442,
          -18.89155236405948,
          -17.615430945244558,
          -21.01614378728563,
          4.994895163309781,
          -23.565194186828347,
          -14.16633644070792,
          13.023482528304138,
          13.59622456405818,
          2.964768254152328,
          16.692039446024246,
          12.401335757626404,
          3.1128016379215406,
          -2.1646901510762984,
          1.2068756827799856,
          14.411326206953738,
          -5.493805172678011,
          -0.42723575275011605,
          25.870448360078157,
          12.209191960707281,
          17.725780271355404,
          -10.228245861163735,
          10.838814259249094,
          15.415904768094748,
          8.553113261082347,
          12.813485218163915,
          1.7350626390978388,
          -25.50858362826456,
          -0.5850636339736841,
          -17.120628033254434,
          -20.657575327639435,
          -0.03803380445438087,
          11.930390987713158,
          -13.712739854504003,
          0.859278824202562,
          13.446585839193459,
          11.392840289821537,
          2.1414430814273153,
          14.106164230865037,
          -1.589424397919827,
          19.68090292949547,
          1.3345547933926465,
          -9.472117102177613,
          16.084614301400563,
          22.788305603552033,
          18.89763389923214,
          -2.8151308919648814,
          -21.956277390727543,
          18.797024063897183,
          11.474444649688209,
          -11.604618018620899,
          -6.870333655731414,
          17.704971875803167,
          5.04892895050536,
          11.171222187677042,
          -14.158176860410551,
          -9.160506246326738,
          15.316039041316847,
          12.262580506717446,
          -15.257953365300164,
          -0.4667075256617892,
          -11.311650202210398,
          -0.7996005096735592,
          -3.6919599209423,
          -18.92956490386126,
          13.68257684790522,
          12.594655242913015,
          -7.741790973473417,
          5.5682256315499705,
          14.72266188095331,
          14.290795686654127,
          7.607591304096836,
          10.34836134303458,
          -10.00340019545332,
          -16.39036667173913,
          -14.816837672851698,
          0.556703690076036,
          14.044440401712466,
          0.7364991753831136,
          3.339477169143726,
          -18.86163739080152,
          -12.376184407879604,
          0.05022008631041697,
          20.551385208303092,
          12.465947739765134,
          19.73244523593768
         ],
         "z": [
          5.54317918072397,
          8.871091177847061,
          -1.2673752772550335,
          5.434394790656401,
          1.6060810338673637,
          1.3921748300546648,
          -4.723372625460919,
          1.0565348807012214,
          -8.267380971788272,
          3.2691569899256905,
          11.579957515945765,
          -2.160815758433615,
          -0.5808371599592972,
          3.7842029712165104,
          -1.3100468545128656,
          -8.83768830729134,
          -5.345306542991711,
          -5.1650985660755,
          -0.259412199286988,
          -10.31062140346307,
          -7.066064849183494,
          -1.8595566146708844,
          3.821426567098289,
          0.7475868146549081,
          1.5956210103778137,
          3.1880317271023637,
          6.4525242738983035,
          -5.310801170746286,
          3.8456212508805745,
          8.211421463298898,
          2.206118534793343,
          0.8567576106252144,
          11.308954567877102,
          0.6382811150892485,
          5.319353528081167,
          -7.988142836226555,
          2.194714285118466,
          6.257872785212804,
          -0.8410425164649151,
          3.187930047999725,
          2.5886242247252564,
          -10.192061482291706,
          6.06526068066561,
          -5.592492956932995,
          -6.291273397780991,
          5.7115250271990075,
          0.8854602038501067,
          1.4946502882400408,
          -4.277878844422723,
          -2.4276948331325334,
          -0.3548250411756735,
          4.21013215902229,
          8.425896839056708,
          -5.46591481265209,
          7.38137130575306,
          -5.445299635193658,
          -6.15124493135342,
          5.783689232348756,
          10.529822489339704,
          10.105710245072181,
          -6.487767248582444,
          -6.412325875537014,
          8.445929053735993,
          -3.2715562726374827,
          2.969106429773852,
          -0.6318280033429842,
          2.2667356197804525,
          -0.2589557954095163,
          2.5889929248680907,
          -5.758917275973743,
          -1.4184010475557693,
          8.813990528815587,
          6.0517845040620895,
          -4.663589072966264,
          2.2923254388736964,
          -4.780193446270354,
          3.811946541818661,
          -6.174842802329459,
          -5.433440093956261,
          5.151663228508155,
          5.939219894075044,
          -0.9306777858359574,
          4.180941141413345,
          0.10280366957262554,
          4.905782158428584,
          5.039979436466112,
          -3.8606775826645974,
          1.2797965241236176,
          -3.071689964861835,
          -5.8523825253831205,
          -5.902191764145284,
          2.098218708851549,
          0.6599137703558791,
          -1.3179402574000791,
          -6.097077088833244,
          -1.756732184609855,
          5.87330389557805,
          5.647888312934109,
          8.706035174411983,
          7.339384396411727
         ]
        }
       ],
       "layout": {
        "margin": {
         "b": 0,
         "l": 0,
         "r": 0,
         "t": 0
        },
        "template": {
         "data": {
          "bar": [
           {
            "error_x": {
             "color": "#2a3f5f"
            },
            "error_y": {
             "color": "#2a3f5f"
            },
            "marker": {
             "line": {
              "color": "#E5ECF6",
              "width": 0.5
             },
             "pattern": {
              "fillmode": "overlay",
              "size": 10,
              "solidity": 0.2
             }
            },
            "type": "bar"
           }
          ],
          "barpolar": [
           {
            "marker": {
             "line": {
              "color": "#E5ECF6",
              "width": 0.5
             },
             "pattern": {
              "fillmode": "overlay",
              "size": 10,
              "solidity": 0.2
             }
            },
            "type": "barpolar"
           }
          ],
          "carpet": [
           {
            "aaxis": {
             "endlinecolor": "#2a3f5f",
             "gridcolor": "white",
             "linecolor": "white",
             "minorgridcolor": "white",
             "startlinecolor": "#2a3f5f"
            },
            "baxis": {
             "endlinecolor": "#2a3f5f",
             "gridcolor": "white",
             "linecolor": "white",
             "minorgridcolor": "white",
             "startlinecolor": "#2a3f5f"
            },
            "type": "carpet"
           }
          ],
          "choropleth": [
           {
            "colorbar": {
             "outlinewidth": 0,
             "ticks": ""
            },
            "type": "choropleth"
           }
          ],
          "contour": [
           {
            "colorbar": {
             "outlinewidth": 0,
             "ticks": ""
            },
            "colorscale": [
             [
              0,
              "#0d0887"
             ],
             [
              0.1111111111111111,
              "#46039f"
             ],
             [
              0.2222222222222222,
              "#7201a8"
             ],
             [
              0.3333333333333333,
              "#9c179e"
             ],
             [
              0.4444444444444444,
              "#bd3786"
             ],
             [
              0.5555555555555556,
              "#d8576b"
             ],
             [
              0.6666666666666666,
              "#ed7953"
             ],
             [
              0.7777777777777778,
              "#fb9f3a"
             ],
             [
              0.8888888888888888,
              "#fdca26"
             ],
             [
              1,
              "#f0f921"
             ]
            ],
            "type": "contour"
           }
          ],
          "contourcarpet": [
           {
            "colorbar": {
             "outlinewidth": 0,
             "ticks": ""
            },
            "type": "contourcarpet"
           }
          ],
          "heatmap": [
           {
            "colorbar": {
             "outlinewidth": 0,
             "ticks": ""
            },
            "colorscale": [
             [
              0,
              "#0d0887"
             ],
             [
              0.1111111111111111,
              "#46039f"
             ],
             [
              0.2222222222222222,
              "#7201a8"
             ],
             [
              0.3333333333333333,
              "#9c179e"
             ],
             [
              0.4444444444444444,
              "#bd3786"
             ],
             [
              0.5555555555555556,
              "#d8576b"
             ],
             [
              0.6666666666666666,
              "#ed7953"
             ],
             [
              0.7777777777777778,
              "#fb9f3a"
             ],
             [
              0.8888888888888888,
              "#fdca26"
             ],
             [
              1,
              "#f0f921"
             ]
            ],
            "type": "heatmap"
           }
          ],
          "heatmapgl": [
           {
            "colorbar": {
             "outlinewidth": 0,
             "ticks": ""
            },
            "colorscale": [
             [
              0,
              "#0d0887"
             ],
             [
              0.1111111111111111,
              "#46039f"
             ],
             [
              0.2222222222222222,
              "#7201a8"
             ],
             [
              0.3333333333333333,
              "#9c179e"
             ],
             [
              0.4444444444444444,
              "#bd3786"
             ],
             [
              0.5555555555555556,
              "#d8576b"
             ],
             [
              0.6666666666666666,
              "#ed7953"
             ],
             [
              0.7777777777777778,
              "#fb9f3a"
             ],
             [
              0.8888888888888888,
              "#fdca26"
             ],
             [
              1,
              "#f0f921"
             ]
            ],
            "type": "heatmapgl"
           }
          ],
          "histogram": [
           {
            "marker": {
             "pattern": {
              "fillmode": "overlay",
              "size": 10,
              "solidity": 0.2
             }
            },
            "type": "histogram"
           }
          ],
          "histogram2d": [
           {
            "colorbar": {
             "outlinewidth": 0,
             "ticks": ""
            },
            "colorscale": [
             [
              0,
              "#0d0887"
             ],
             [
              0.1111111111111111,
              "#46039f"
             ],
             [
              0.2222222222222222,
              "#7201a8"
             ],
             [
              0.3333333333333333,
              "#9c179e"
             ],
             [
              0.4444444444444444,
              "#bd3786"
             ],
             [
              0.5555555555555556,
              "#d8576b"
             ],
             [
              0.6666666666666666,
              "#ed7953"
             ],
             [
              0.7777777777777778,
              "#fb9f3a"
             ],
             [
              0.8888888888888888,
              "#fdca26"
             ],
             [
              1,
              "#f0f921"
             ]
            ],
            "type": "histogram2d"
           }
          ],
          "histogram2dcontour": [
           {
            "colorbar": {
             "outlinewidth": 0,
             "ticks": ""
            },
            "colorscale": [
             [
              0,
              "#0d0887"
             ],
             [
              0.1111111111111111,
              "#46039f"
             ],
             [
              0.2222222222222222,
              "#7201a8"
             ],
             [
              0.3333333333333333,
              "#9c179e"
             ],
             [
              0.4444444444444444,
              "#bd3786"
             ],
             [
              0.5555555555555556,
              "#d8576b"
             ],
             [
              0.6666666666666666,
              "#ed7953"
             ],
             [
              0.7777777777777778,
              "#fb9f3a"
             ],
             [
              0.8888888888888888,
              "#fdca26"
             ],
             [
              1,
              "#f0f921"
             ]
            ],
            "type": "histogram2dcontour"
           }
          ],
          "mesh3d": [
           {
            "colorbar": {
             "outlinewidth": 0,
             "ticks": ""
            },
            "type": "mesh3d"
           }
          ],
          "parcoords": [
           {
            "line": {
             "colorbar": {
              "outlinewidth": 0,
              "ticks": ""
             }
            },
            "type": "parcoords"
           }
          ],
          "pie": [
           {
            "automargin": true,
            "type": "pie"
           }
          ],
          "scatter": [
           {
            "fillpattern": {
             "fillmode": "overlay",
             "size": 10,
             "solidity": 0.2
            },
            "type": "scatter"
           }
          ],
          "scatter3d": [
           {
            "line": {
             "colorbar": {
              "outlinewidth": 0,
              "ticks": ""
             }
            },
            "marker": {
             "colorbar": {
              "outlinewidth": 0,
              "ticks": ""
             }
            },
            "type": "scatter3d"
           }
          ],
          "scattercarpet": [
           {
            "marker": {
             "colorbar": {
              "outlinewidth": 0,
              "ticks": ""
             }
            },
            "type": "scattercarpet"
           }
          ],
          "scattergeo": [
           {
            "marker": {
             "colorbar": {
              "outlinewidth": 0,
              "ticks": ""
             }
            },
            "type": "scattergeo"
           }
          ],
          "scattergl": [
           {
            "marker": {
             "colorbar": {
              "outlinewidth": 0,
              "ticks": ""
             }
            },
            "type": "scattergl"
           }
          ],
          "scattermapbox": [
           {
            "marker": {
             "colorbar": {
              "outlinewidth": 0,
              "ticks": ""
             }
            },
            "type": "scattermapbox"
           }
          ],
          "scatterpolar": [
           {
            "marker": {
             "colorbar": {
              "outlinewidth": 0,
              "ticks": ""
             }
            },
            "type": "scatterpolar"
           }
          ],
          "scatterpolargl": [
           {
            "marker": {
             "colorbar": {
              "outlinewidth": 0,
              "ticks": ""
             }
            },
            "type": "scatterpolargl"
           }
          ],
          "scatterternary": [
           {
            "marker": {
             "colorbar": {
              "outlinewidth": 0,
              "ticks": ""
             }
            },
            "type": "scatterternary"
           }
          ],
          "surface": [
           {
            "colorbar": {
             "outlinewidth": 0,
             "ticks": ""
            },
            "colorscale": [
             [
              0,
              "#0d0887"
             ],
             [
              0.1111111111111111,
              "#46039f"
             ],
             [
              0.2222222222222222,
              "#7201a8"
             ],
             [
              0.3333333333333333,
              "#9c179e"
             ],
             [
              0.4444444444444444,
              "#bd3786"
             ],
             [
              0.5555555555555556,
              "#d8576b"
             ],
             [
              0.6666666666666666,
              "#ed7953"
             ],
             [
              0.7777777777777778,
              "#fb9f3a"
             ],
             [
              0.8888888888888888,
              "#fdca26"
             ],
             [
              1,
              "#f0f921"
             ]
            ],
            "type": "surface"
           }
          ],
          "table": [
           {
            "cells": {
             "fill": {
              "color": "#EBF0F8"
             },
             "line": {
              "color": "white"
             }
            },
            "header": {
             "fill": {
              "color": "#C8D4E3"
             },
             "line": {
              "color": "white"
             }
            },
            "type": "table"
           }
          ]
         },
         "layout": {
          "annotationdefaults": {
           "arrowcolor": "#2a3f5f",
           "arrowhead": 0,
           "arrowwidth": 1
          },
          "autotypenumbers": "strict",
          "coloraxis": {
           "colorbar": {
            "outlinewidth": 0,
            "ticks": ""
           }
          },
          "colorscale": {
           "diverging": [
            [
             0,
             "#8e0152"
            ],
            [
             0.1,
             "#c51b7d"
            ],
            [
             0.2,
             "#de77ae"
            ],
            [
             0.3,
             "#f1b6da"
            ],
            [
             0.4,
             "#fde0ef"
            ],
            [
             0.5,
             "#f7f7f7"
            ],
            [
             0.6,
             "#e6f5d0"
            ],
            [
             0.7,
             "#b8e186"
            ],
            [
             0.8,
             "#7fbc41"
            ],
            [
             0.9,
             "#4d9221"
            ],
            [
             1,
             "#276419"
            ]
           ],
           "sequential": [
            [
             0,
             "#0d0887"
            ],
            [
             0.1111111111111111,
             "#46039f"
            ],
            [
             0.2222222222222222,
             "#7201a8"
            ],
            [
             0.3333333333333333,
             "#9c179e"
            ],
            [
             0.4444444444444444,
             "#bd3786"
            ],
            [
             0.5555555555555556,
             "#d8576b"
            ],
            [
             0.6666666666666666,
             "#ed7953"
            ],
            [
             0.7777777777777778,
             "#fb9f3a"
            ],
            [
             0.8888888888888888,
             "#fdca26"
            ],
            [
             1,
             "#f0f921"
            ]
           ],
           "sequentialminus": [
            [
             0,
             "#0d0887"
            ],
            [
             0.1111111111111111,
             "#46039f"
            ],
            [
             0.2222222222222222,
             "#7201a8"
            ],
            [
             0.3333333333333333,
             "#9c179e"
            ],
            [
             0.4444444444444444,
             "#bd3786"
            ],
            [
             0.5555555555555556,
             "#d8576b"
            ],
            [
             0.6666666666666666,
             "#ed7953"
            ],
            [
             0.7777777777777778,
             "#fb9f3a"
            ],
            [
             0.8888888888888888,
             "#fdca26"
            ],
            [
             1,
             "#f0f921"
            ]
           ]
          },
          "colorway": [
           "#636efa",
           "#EF553B",
           "#00cc96",
           "#ab63fa",
           "#FFA15A",
           "#19d3f3",
           "#FF6692",
           "#B6E880",
           "#FF97FF",
           "#FECB52"
          ],
          "font": {
           "color": "#2a3f5f"
          },
          "geo": {
           "bgcolor": "white",
           "lakecolor": "white",
           "landcolor": "#E5ECF6",
           "showlakes": true,
           "showland": true,
           "subunitcolor": "white"
          },
          "hoverlabel": {
           "align": "left"
          },
          "hovermode": "closest",
          "mapbox": {
           "style": "light"
          },
          "paper_bgcolor": "white",
          "plot_bgcolor": "#E5ECF6",
          "polar": {
           "angularaxis": {
            "gridcolor": "white",
            "linecolor": "white",
            "ticks": ""
           },
           "bgcolor": "#E5ECF6",
           "radialaxis": {
            "gridcolor": "white",
            "linecolor": "white",
            "ticks": ""
           }
          },
          "scene": {
           "xaxis": {
            "backgroundcolor": "#E5ECF6",
            "gridcolor": "white",
            "gridwidth": 2,
            "linecolor": "white",
            "showbackground": true,
            "ticks": "",
            "zerolinecolor": "white"
           },
           "yaxis": {
            "backgroundcolor": "#E5ECF6",
            "gridcolor": "white",
            "gridwidth": 2,
            "linecolor": "white",
            "showbackground": true,
            "ticks": "",
            "zerolinecolor": "white"
           },
           "zaxis": {
            "backgroundcolor": "#E5ECF6",
            "gridcolor": "white",
            "gridwidth": 2,
            "linecolor": "white",
            "showbackground": true,
            "ticks": "",
            "zerolinecolor": "white"
           }
          },
          "shapedefaults": {
           "line": {
            "color": "#2a3f5f"
           }
          },
          "ternary": {
           "aaxis": {
            "gridcolor": "white",
            "linecolor": "white",
            "ticks": ""
           },
           "baxis": {
            "gridcolor": "white",
            "linecolor": "white",
            "ticks": ""
           },
           "bgcolor": "#E5ECF6",
           "caxis": {
            "gridcolor": "white",
            "linecolor": "white",
            "ticks": ""
           }
          },
          "title": {
           "x": 0.05
          },
          "xaxis": {
           "automargin": true,
           "gridcolor": "white",
           "linecolor": "white",
           "ticks": "",
           "title": {
            "standoff": 15
           },
           "zerolinecolor": "white",
           "zerolinewidth": 2
          },
          "yaxis": {
           "automargin": true,
           "gridcolor": "white",
           "linecolor": "white",
           "ticks": "",
           "title": {
            "standoff": 15
           },
           "zerolinecolor": "white",
           "zerolinewidth": 2
          }
         }
        }
       }
      }
     },
     "metadata": {},
     "output_type": "display_data"
    },
    {
     "data": {
      "text/plain": [
       "<Figure size 600x600 with 0 Axes>"
      ]
     },
     "metadata": {},
     "output_type": "display_data"
    }
   ],
   "source": [
    "import plotly.graph_objects as go\n",
    "v1 = np.array([ 3,5,1 ])\n",
    "v2 = np.array([ 0,2,2 ])\n",
    "\n",
    "scalars = np.random.uniform(low=-4,high=4 ,size=(100,2))\n",
    "\n",
    "points = np.zeros((100, 3))\n",
    "\n",
    "for i in range(len(scalars)):\n",
    "  points[i, :] = v1 * scalars[i, 0] + v2 * scalars[i, 1]\n",
    "\n",
    "plt.figure(figsize=(6, 6))\n",
    "fig = go.Figure( data=[go.Scatter3d(x=points[:,0], y=points[:,1], z=points[:,2], \n",
    "                                    mode='markers', marker=dict(size=6,color='black') )])\n",
    "\n",
    "fig.update_layout(margin=dict(l=0,r=0,b=0,t=0))\n",
    "fig.show()"
   ]
  },
  {
   "cell_type": "code",
   "execution_count": null,
   "metadata": {},
   "outputs": [],
   "source": [
    "# 선형 독립성\n",
    "\n",
    "# 독립적\n",
    "v = np.array(\n",
    "    [1,2],\n",
    "    [3,7]\n",
    ")\n",
    "\n",
    "# 종속적\n",
    "v1 = np.array(\n",
    "    [1,2],\n",
    "    [3,6]\n",
    ")\n",
    "\n",
    "\n"
   ]
  }
 ],
 "metadata": {
  "kernelspec": {
   "display_name": "base",
   "language": "python",
   "name": "python3"
  },
  "language_info": {
   "codemirror_mode": {
    "name": "ipython",
    "version": 3
   },
   "file_extension": ".py",
   "mimetype": "text/x-python",
   "name": "python",
   "nbconvert_exporter": "python",
   "pygments_lexer": "ipython3",
   "version": "3.11.5"
  }
 },
 "nbformat": 4,
 "nbformat_minor": 2
}
